{
  "nbformat": 4,
  "nbformat_minor": 0,
  "metadata": {
    "colab": {
      "provenance": [],
      "authorship_tag": "ABX9TyO/GyGLIwuLw2V4TIJridXQ",
      "include_colab_link": true
    },
    "kernelspec": {
      "name": "python3",
      "display_name": "Python 3"
    },
    "language_info": {
      "name": "python"
    }
  },
  "cells": [
    {
      "cell_type": "markdown",
      "metadata": {
        "id": "view-in-github",
        "colab_type": "text"
      },
      "source": [
        "<a href=\"https://colab.research.google.com/github/KhumairahErnas/Tugas4_JST/blob/main/Tugas4_Khumairah_JST.ipynb\" target=\"_parent\"><img src=\"https://colab.research.google.com/assets/colab-badge.svg\" alt=\"Open In Colab\"/></a>"
      ]
    },
    {
      "cell_type": "code",
      "execution_count": null,
      "metadata": {
        "id": "OB3Ev-LDHzb0"
      },
      "outputs": [],
      "source": [
        "# 1. Import Library yang diperlukan\n",
        "import numpy as np\n",
        "import pandas as pd\n",
        "from sklearn.datasets import load_iris\n",
        "from sklearn.model_selection import train_test_split\n",
        "from sklearn.preprocessing import OneHotEncoder\n",
        "from sklearn.metrics import confusion_matrix, accuracy_score\n",
        "import matplotlib.pyplot as plt\n",
        "import seaborn as sns"
      ]
    },
    {
      "cell_type": "code",
      "source": [
        "# 2. Load dataset Iris\n",
        "iris = load_iris ()\n",
        "X = iris['data'] # Fitur: sepal length, sepal width, petal length, petal width\n",
        "y = iris['target'].reshape(-1, 1) # Target: Kelas (Setosa, Versicolor, Virginica)"
      ],
      "metadata": {
        "id": "nBVTzkZwJEc4"
      },
      "execution_count": null,
      "outputs": []
    },
    {
      "cell_type": "code",
      "source": [
        "# 3. Preprocessing data\n",
        "# One hot encoding untuk target (karena kita punya 3 kelas)\n",
        "encoder = OneHotEncoder (sparse_output=False) # sparse_output=False untuk sklearn versi terbaru\n",
        "y_encoded = encoder.fit_transform(y)\n",
        "\n",
        "# split data info training and testing sets\n",
        "X_train, X_test, y_train, y_test = train_test_split (X, y_encoded, test_size=0.2, random_state=42)\n",
        "\n",
        "# Tampilkan beberapa data latih\n",
        "train_data = pd.DataFrame (X_train, columns=iris ['feature_names'])\n",
        "train_data['target'] = np.argmax(y_train, axis=1) # Tambahkan kolom target\n",
        "train_data['target_name'] = train_data['target'].apply(lambda x:\n",
        "iris['target_names'] [x]) # Tambahkan nama target\n",
        "print(\"Data Latih:\")\n",
        "print(train_data.head())  # Tampilkan 5 data pertama\n",
        "\n",
        "# Tampilkan beberapa data uji\n",
        "test_data = pd.DataFrame (X_test, columns=iris['feature_names'])\n",
        "test_data['target'] = np.argmax(y_test, axis=1) # Tambahkan kolom target\n",
        "test_data['target_name'] = test_data['target'].apply(lambda x:\n",
        "iris['target_names'] [x]) # Tambahkan nama target\n",
        "print(\"\\nData Uji:\")\n",
        "print(test_data.head())   # Tampilkan 5 data pertama"
      ],
      "metadata": {
        "colab": {
          "base_uri": "https://localhost:8080/"
        },
        "id": "RdgKHuDOJUa6",
        "outputId": "87ea51b0-9bf1-4d40-b27c-8e9ab015d486"
      },
      "execution_count": null,
      "outputs": [
        {
          "output_type": "stream",
          "name": "stdout",
          "text": [
            "Data Latih:\n",
            "   sepal length (cm)  sepal width (cm)  petal length (cm)  petal width (cm)  \\\n",
            "0                4.6               3.6                1.0               0.2   \n",
            "1                5.7               4.4                1.5               0.4   \n",
            "2                6.7               3.1                4.4               1.4   \n",
            "3                4.8               3.4                1.6               0.2   \n",
            "4                4.4               3.2                1.3               0.2   \n",
            "\n",
            "   target target_name  \n",
            "0       0      setosa  \n",
            "1       0      setosa  \n",
            "2       1  versicolor  \n",
            "3       0      setosa  \n",
            "4       0      setosa  \n",
            "\n",
            "Data Uji:\n",
            "   sepal length (cm)  sepal width (cm)  petal length (cm)  petal width (cm)  \\\n",
            "0                6.1               2.8                4.7               1.2   \n",
            "1                5.7               3.8                1.7               0.3   \n",
            "2                7.7               2.6                6.9               2.3   \n",
            "3                6.0               2.9                4.5               1.5   \n",
            "4                6.8               2.8                4.8               1.4   \n",
            "\n",
            "   target target_name  \n",
            "0       1  versicolor  \n",
            "1       0      setosa  \n",
            "2       2   virginica  \n",
            "3       1  versicolor  \n",
            "4       1  versicolor  \n"
          ]
        }
      ]
    },
    {
      "cell_type": "code",
      "source": [
        "# 4. Membangun jaringan neural sederhana (1 Hidden Layer)\n",
        "input_neurons = X_train.shape[1]    # 4 fitur (input layer)\n",
        "hidden_neurons = 5                  # 5 neuron di hidden layer\n",
        "output_neurons = y_train.shape[1]   # 3 output (kelas bunga)\n",
        "\n",
        "# Bobot random inisialisasi\n",
        "np.random.seed(42)\n",
        "W1 = np.random.randn(input_neurons, hidden_neurons)\n",
        "b1 = np.zeros((1, hidden_neurons))\n",
        "W2 = np.random.randn(hidden_neurons, output_neurons)\n",
        "b2 = np.zeros((1, output_neurons))\n",
        "\n",
        "# Fungsi aktivasi : Sigmoid\n",
        "def sigmoid(x) :\n",
        "  return 1 / (1 + np.exp(-x))\n",
        "\n",
        "def sigmoid_derivative(x) :\n",
        "  return x * (1 - x)"
      ],
      "metadata": {
        "id": "I9-uxjrpPcPr"
      },
      "execution_count": null,
      "outputs": []
    },
    {
      "cell_type": "code",
      "source": [
        "# 5. Forward propagation\n",
        "def forward_propagation(X):\n",
        "  Z1 = np.dot(X, W1) + b1\n",
        "  A1 = sigmoid(Z1)\n",
        "  Z2 = np.dot(A1, W2) + b2\n",
        "  A2 = sigmoid(Z2)\n",
        "  return Z1, A1, Z2, A2"
      ],
      "metadata": {
        "id": "QSHtKrFcQThZ"
      },
      "execution_count": null,
      "outputs": []
    },
    {
      "cell_type": "code",
      "source": [
        "# 6. Backward propagation (perbarui bobot)\n",
        "def backward_propagation(X, y, Z1, A1, Z2, A2, learning_rate):\n",
        "  global W1, b1, W2, b2 # Deklarasi variabel global sebelum digunakan\n",
        "\n",
        "  # Error di output\n",
        "  dZ2 = A2 - y\n",
        "  dW2 = np.dot(A1.T, dZ2)\n",
        "  db2 = np.sum(dZ2, axis=0, keepdims=True)\n",
        "\n",
        "  # Error di hidden layer\n",
        "  dA1 = np.dot(dZ2, W2.T)\n",
        "  dZ1 = dA1 * sigmoid_derivative(A1)\n",
        "  dW1 = np.dot(X.T, dZ1)\n",
        "  db1 = np.sum(dZ1, axis=0, keepdims=True)\n",
        "\n",
        "  # Update bobot\n",
        "  W1 -= learning_rate * dW1\n",
        "  b1 -= learning_rate * db1\n",
        "  W2 -= learning_rate * dW2\n",
        "  b2 -= learning_rate * db2"
      ],
      "metadata": {
        "id": "Zjw6kc0uQhTU"
      },
      "execution_count": null,
      "outputs": []
    },
    {
      "cell_type": "code",
      "source": [
        "# 7. Training (pelatihan)\n",
        "def train(X, y, iterations, learning_rate):\n",
        "  for i in range(iterations):\n",
        "    Z1, A1, Z2, A2 = forward_propagation(X)\n",
        "    backward_propagation(X, y, Z1, A1, Z2, A2, learning_rate)\n",
        "\n",
        "    # Cetak loss (Mean Squared Error) setiap iterasi\n",
        "    loss = np.mean(np.square(y - A2))\n",
        "    print(F'Iteration {i+1}, Loss: {loss}')\n",
        "\n",
        "    # Melatih jaringan (10 iterasi, learning rate 0.01)\n",
        "    train(X_train, y_train, iterations=10, learning_rate=0.01)"
      ],
      "metadata": {
        "id": "J-KbfFXNRH5S"
      },
      "execution_count": null,
      "outputs": []
    },
    {
      "cell_type": "code",
      "source": [
        "# 8. Testing (pengujian)\n",
        "def predict (X):\n",
        "  _, _, _, A2 = forward_propagation(X)\n",
        "  return np.argmax(A2, axis=1)\n",
        "\n",
        "  # Memprediksi kelas untuk data uji\n",
        "  predictions = predict (X_test)\n",
        "\n",
        "  # Evaluasi akurasi\n",
        "  y_test_labels = np.argmax(y_test, axis=1)\n",
        "  accuracy = accuracy_score (y_test_labels, predictions)\n",
        "  print(f'Akurasi: {accuracy:.2f}%')\n",
        "\n",
        "  # Confusion Matrix\n",
        "  conf_matrix = confusion_matrix(y_test_labels, predictions)\n",
        "  plt.figure(figsize=(6,4))\n",
        "  sns.heatmap(conf_matrix, annot=True, fmt=\"d\", cmap=\"Blues\",\n",
        "              xticklabels=iris['target_names'], yticklabels=iris['target_names'])\n",
        "  plt.xlabel (\"Predicted\")\n",
        "  plt.ylabel (\"Actual\")\n",
        "  plt.title (\"Confusion Matrix\")\n",
        "  plt.show()"
      ],
      "metadata": {
        "id": "m2sxiYENRawY"
      },
      "execution_count": null,
      "outputs": []
    },
    {
      "cell_type": "code",
      "source": [
        "# 9. Fungsi untuk prediksi data baru\n",
        "def predict_new_data(new_data) :\n",
        "  new_data = np.array(new_data).reshape(1, -1)  # Ubah menjadi array 2D\n",
        "  predicted_class = predict(new_data) # Prediksi kelas\n",
        "  class_names = iris['target_names']  # Nama kelas (Setosa, Versicolor, Virginica)\n",
        "  return class_names[predicted_class] [0]\n",
        "\n",
        "  # Contoh prediksi data baru\n",
        "  new_data = [5.1, 3.5, 1.4, 0.2] # Data baru (sepal length, sepal width, petal length, petal width)\n",
        "  predicted_class = predict_new_data(new_data)\n",
        "  print(f'Data baru: {new_data}, Prediksi Kelas: {predicted_class}')"
      ],
      "metadata": {
        "id": "xfUzSFv3SRM3"
      },
      "execution_count": null,
      "outputs": []
    }
  ]
}